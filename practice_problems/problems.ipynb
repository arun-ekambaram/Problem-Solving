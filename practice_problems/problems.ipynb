{
 "cells": [
  {
   "cell_type": "markdown",
   "metadata": {},
   "source": [
    "## Count Number of digits in N"
   ]
  },
  {
   "cell_type": "code",
   "execution_count": 22,
   "metadata": {},
   "outputs": [
    {
     "data": {
      "text/plain": [
       "2"
      ]
     },
     "execution_count": 22,
     "metadata": {},
     "output_type": "execute_result"
    }
   ],
   "source": [
    "import math\n",
    "def countdigits(N):\n",
    "    \n",
    "    count  = 0\n",
    "    while( N > 0): \n",
    "        count = count + 1 \n",
    "        N = N//10  \n",
    "        \n",
    "    return count\n",
    "\n",
    "N  = int(input(\"Enter the input N: \"))\n",
    "# countdigits(N)\n",
    "\n",
    "def countdigits2(N):\n",
    "    count  = (int(math.log10(N) + 1))\n",
    "    return count \n",
    "\n",
    "countdigits2(N)"
   ]
  },
  {
   "cell_type": "markdown",
   "metadata": {},
   "source": [
    "## Reverse a digit"
   ]
  },
  {
   "cell_type": "code",
   "execution_count": 27,
   "metadata": {},
   "outputs": [
    {
     "data": {
      "text/plain": [
       "321"
      ]
     },
     "execution_count": 27,
     "metadata": {},
     "output_type": "execute_result"
    }
   ],
   "source": [
    "def reverseofadigit(N):\n",
    "    revNo = 0\n",
    "    while(N > 0):\n",
    "        lastdigit = N % 10\n",
    "       \n",
    "        revNo = (revNo * 10) + lastdigit\n",
    "        N = N // 10\n",
    "    return revNo\n",
    "\n",
    "\n",
    "N = int(input(\"Enter the number you want to reverse: \"))\n",
    "reverseofadigit(N)\n",
    "        "
   ]
  },
  {
   "cell_type": "markdown",
   "metadata": {},
   "source": [
    "## Check if a number is Palindrome\n",
    "\n",
    "reverse is same as original eg: 121 = 121"
   ]
  },
  {
   "cell_type": "code",
   "execution_count": 36,
   "metadata": {},
   "outputs": [
    {
     "name": "stdout",
     "output_type": "stream",
     "text": [
      "the number is not a palindrome because 123 is not same as 321  \n"
     ]
    }
   ],
   "source": [
    "def palindrome(N):\n",
    "    \n",
    "    temp = N\n",
    "    revNo = 0\n",
    "    while(N > 0):\n",
    "        lastdigit = N % 10\n",
    "        revNo = (revNo * 10) + lastdigit\n",
    "        N = N // 10\n",
    "\n",
    "    if revNo == temp:\n",
    "        print(f\"the number is palindrome becauuse {temp} is same as {revNo}\")\n",
    "    else:\n",
    "        print(f\"the number is not a palindrome because {temp} is not same as {revNo}  \")\n",
    "\n",
    "N = int(input(\"Enter the number:\"))\n",
    "palindrome(N)"
   ]
  },
  {
   "cell_type": "markdown",
   "metadata": {},
   "source": [
    "## Armstrong Numbers"
   ]
  },
  {
   "cell_type": "code",
   "execution_count": 44,
   "metadata": {},
   "outputs": [
    {
     "data": {
      "text/plain": [
       "True"
      ]
     },
     "execution_count": 44,
     "metadata": {},
     "output_type": "execute_result"
    }
   ],
   "source": [
    "def armstrongno(N):\n",
    "    temp = N\n",
    "    sum = 0\n",
    "    while(N > 0):\n",
    "        lastdigit = N % 10\n",
    "        sum = sum + (lastdigit * lastdigit * lastdigit )\n",
    "        N = N //10\n",
    "\n",
    "    if temp == sum:\n",
    "        return True\n",
    "    else:\n",
    "        return False\n",
    "        \n",
    "armstrongno(371)"
   ]
  },
  {
   "cell_type": "markdown",
   "metadata": {},
   "source": [
    "## Print all divisors of a Number"
   ]
  },
  {
   "cell_type": "code",
   "execution_count": null,
   "metadata": {},
   "outputs": [
    {
     "name": "stdout",
     "output_type": "stream",
     "text": [
      "1\n",
      "36\n",
      "2\n",
      "18\n",
      "3\n",
      "12\n",
      "4\n",
      "9\n"
     ]
    }
   ],
   "source": [
    "import math\n",
    "\n",
    "def printdivisors(N):\n",
    "\n",
    "    for num in range(1, N+1):\n",
    "        if N % num == 0:\n",
    "            print(num)\n",
    "\n",
    "# printdivisors(36)\n",
    "\n",
    "\n",
    "def prntdivisors(N):\n",
    "\n",
    "    for num in range(1, int(math.sqrt(N))): \n",
    "        if N % num == 0:\n",
    "            print(num)\n",
    "\n",
    "            if ((N // num) != num):\n",
    "                print(N//num)\n",
    "\n",
    "prntdivisors(36)"
   ]
  },
  {
   "cell_type": "markdown",
   "metadata": {},
   "source": [
    "## Prime Numbers\n",
    "\n",
    "A number exactly has two factors 1 & itself"
   ]
  },
  {
   "cell_type": "code",
   "execution_count": 117,
   "metadata": {},
   "outputs": [
    {
     "name": "stdout",
     "output_type": "stream",
     "text": [
      "2\n",
      "3\n",
      "5\n",
      "7\n",
      "11\n",
      "13\n",
      "17\n",
      "19\n",
      "23\n",
      "29\n",
      "31\n"
     ]
    }
   ],
   "source": [
    "def primenumber(N):\n",
    "    count = 0\n",
    "\n",
    "    for i in range(1,N+1):\n",
    "         if N % i == 0:\n",
    "            count += 1\n",
    "\n",
    "    if count == 2:\n",
    "        print(\"the number is a prime number\")\n",
    "    else:\n",
    "        print(\"the number is not a prime number\")\n",
    "\n",
    "# primenumber(11)\n",
    "\n",
    "def primenumberoptimised(N):\n",
    "    count = 0\n",
    "\n",
    "    for i in range(1,int(math.sqrt(N)+ 1 )):\n",
    "         if N % i == 0:\n",
    "            count += 1\n",
    "            if N // i != i:\n",
    "                count += 1\n",
    "\n",
    "\n",
    "    if count == 2:\n",
    "        print(\"the number is a prime number\")\n",
    "    else:\n",
    "        print(\"the number is not a prime number\")\n",
    "\n",
    "# primenumberoptimised(4)\n",
    "\n",
    "\n",
    "def primenorange(start, end):\n",
    "    \n",
    "    for num in range(start, end+1):\n",
    "        if num > 1:\n",
    "            for i in range(2, num):\n",
    "                if num % i == 0:\n",
    "                    break\n",
    "            else:\n",
    "                print(num, end= ' ')\n",
    "\n",
    "# primenorange(2,11)\n",
    "\n",
    "def primeno(n):\n",
    "    for num in range(n+1): \n",
    "        if num > 1:\n",
    "            for i in range(2,num):\n",
    "                if num% i == 0:\n",
    "                    break\n",
    "            else:\n",
    "                print(num)\n",
    "primeno(33)"
   ]
  },
  {
   "cell_type": "markdown",
   "metadata": {},
   "source": [
    "## Peak element"
   ]
  },
  {
   "cell_type": "code",
   "execution_count": 118,
   "metadata": {},
   "outputs": [],
   "source": [
    "\n",
    "class Solution:   \n",
    "    def peakElement(self,arr):\n",
    "        # Code here\n",
    "        max = float('-inf')\n",
    "        index = 0\n",
    "        \n",
    "        for i in range(0, len(arr)):\n",
    "            if (max < arr[i]):\n",
    "                max = arr[i]\n",
    "                index = i\n",
    "        return index\n"
   ]
  },
  {
   "cell_type": "code",
   "execution_count": null,
   "metadata": {},
   "outputs": [],
   "source": []
  },
  {
   "cell_type": "code",
   "execution_count": null,
   "metadata": {},
   "outputs": [],
   "source": []
  },
  {
   "cell_type": "code",
   "execution_count": null,
   "metadata": {},
   "outputs": [],
   "source": []
  },
  {
   "cell_type": "code",
   "execution_count": null,
   "metadata": {},
   "outputs": [],
   "source": []
  },
  {
   "cell_type": "code",
   "execution_count": null,
   "metadata": {},
   "outputs": [],
   "source": []
  },
  {
   "cell_type": "code",
   "execution_count": null,
   "metadata": {},
   "outputs": [],
   "source": []
  }
 ],
 "metadata": {
  "kernelspec": {
   "display_name": "Python 3",
   "language": "python",
   "name": "python3"
  },
  "language_info": {
   "codemirror_mode": {
    "name": "ipython",
    "version": 3
   },
   "file_extension": ".py",
   "mimetype": "text/x-python",
   "name": "python",
   "nbconvert_exporter": "python",
   "pygments_lexer": "ipython3",
   "version": "3.12.0"
  }
 },
 "nbformat": 4,
 "nbformat_minor": 2
}
