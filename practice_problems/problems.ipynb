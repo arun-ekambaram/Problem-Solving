{
 "cells": [
  {
   "cell_type": "markdown",
   "metadata": {},
   "source": [
    "## Count Number of digits in N"
   ]
  },
  {
   "cell_type": "code",
   "execution_count": 22,
   "metadata": {},
   "outputs": [
    {
     "data": {
      "text/plain": [
       "2"
      ]
     },
     "execution_count": 22,
     "metadata": {},
     "output_type": "execute_result"
    }
   ],
   "source": [
    "import math\n",
    "def countdigits(N):\n",
    "    \n",
    "    count  = 0\n",
    "    while( N > 0): \n",
    "        count = count + 1 \n",
    "        N = N//10  \n",
    "        \n",
    "    return count\n",
    "\n",
    "N  = int(input(\"Enter the input N: \"))\n",
    "# countdigits(N)\n",
    "\n",
    "def countdigits2(N):\n",
    "    count  = (int(math.log10(N) + 1))\n",
    "    return count \n",
    "\n",
    "countdigits2(N)"
   ]
  },
  {
   "cell_type": "markdown",
   "metadata": {},
   "source": [
    "## Reverse a digit"
   ]
  },
  {
   "cell_type": "code",
   "execution_count": 27,
   "metadata": {},
   "outputs": [
    {
     "data": {
      "text/plain": [
       "321"
      ]
     },
     "execution_count": 27,
     "metadata": {},
     "output_type": "execute_result"
    }
   ],
   "source": [
    "def reverseofadigit(N):\n",
    "    revNo = 0\n",
    "    while(N > 0):\n",
    "        lastdigit = N % 10\n",
    "       \n",
    "        revNo = (revNo * 10) + lastdigit\n",
    "        N = N // 10\n",
    "    return revNo\n",
    "\n",
    "\n",
    "N = int(input(\"Enter the number you want to reverse: \"))\n",
    "reverseofadigit(N)\n",
    "        "
   ]
  },
  {
   "cell_type": "markdown",
   "metadata": {},
   "source": [
    "## Check if a number is Palindrome\n",
    "\n",
    "reverse is same as original eg: 121 = 121"
   ]
  },
  {
   "cell_type": "code",
   "execution_count": 36,
   "metadata": {},
   "outputs": [
    {
     "name": "stdout",
     "output_type": "stream",
     "text": [
      "the number is not a palindrome because 123 is not same as 321  \n"
     ]
    }
   ],
   "source": [
    "def palindrome(N):\n",
    "    \n",
    "    temp = N\n",
    "    revNo = 0\n",
    "    while(N > 0):\n",
    "        lastdigit = N % 10\n",
    "        revNo = (revNo * 10) + lastdigit\n",
    "        N = N // 10\n",
    "\n",
    "    if revNo == temp:\n",
    "        print(f\"the number is palindrome becauuse {temp} is same as {revNo}\")\n",
    "    else:\n",
    "        print(f\"the number is not a palindrome because {temp} is not same as {revNo}  \")\n",
    "\n",
    "N = int(input(\"Enter the number:\"))\n",
    "palindrome(N)"
   ]
  },
  {
   "cell_type": "markdown",
   "metadata": {},
   "source": [
    "## Armstrong Numbers"
   ]
  },
  {
   "cell_type": "code",
   "execution_count": 44,
   "metadata": {},
   "outputs": [
    {
     "data": {
      "text/plain": [
       "True"
      ]
     },
     "execution_count": 44,
     "metadata": {},
     "output_type": "execute_result"
    }
   ],
   "source": [
    "def armstrongno(N):\n",
    "    temp = N\n",
    "    sum = 0\n",
    "    while(N > 0):\n",
    "        lastdigit = N % 10\n",
    "        sum = sum + (lastdigit * lastdigit * lastdigit )\n",
    "        N = N //10\n",
    "\n",
    "    if temp == sum:\n",
    "        return True\n",
    "    else:\n",
    "        return False\n",
    "        \n",
    "armstrongno(371)"
   ]
  },
  {
   "cell_type": "markdown",
   "metadata": {},
   "source": [
    "## Print all divisors of a Number"
   ]
  },
  {
   "cell_type": "code",
   "execution_count": null,
   "metadata": {},
   "outputs": [
    {
     "name": "stdout",
     "output_type": "stream",
     "text": [
      "1\n",
      "36\n",
      "2\n",
      "18\n",
      "3\n",
      "12\n",
      "4\n",
      "9\n"
     ]
    }
   ],
   "source": [
    "import math\n",
    "\n",
    "def printdivisors(N):\n",
    "\n",
    "    for num in range(1, N+1):\n",
    "        if N % num == 0:\n",
    "            print(num)\n",
    "\n",
    "# printdivisors(36)\n",
    "\n",
    "\n",
    "def prntdivisors(N):\n",
    "\n",
    "    for num in range(1, int(math.sqrt(N))): \n",
    "        if N % num == 0:\n",
    "            print(num)\n",
    "\n",
    "            if ((N // num) != num):\n",
    "                print(N//num)\n",
    "\n",
    "prntdivisors(36)"
   ]
  },
  {
   "cell_type": "markdown",
   "metadata": {},
   "source": [
    "## Prime Numbers\n",
    "\n",
    "A number exactly has two factors 1 & itself"
   ]
  },
  {
   "cell_type": "code",
   "execution_count": 117,
   "metadata": {},
   "outputs": [
    {
     "name": "stdout",
     "output_type": "stream",
     "text": [
      "2\n",
      "3\n",
      "5\n",
      "7\n",
      "11\n",
      "13\n",
      "17\n",
      "19\n",
      "23\n",
      "29\n",
      "31\n"
     ]
    }
   ],
   "source": [
    "def primenumber(N):\n",
    "    count = 0\n",
    "\n",
    "    for i in range(1,N+1):\n",
    "         if N % i == 0:\n",
    "            count += 1\n",
    "\n",
    "    if count == 2:\n",
    "        print(\"the number is a prime number\")\n",
    "    else:\n",
    "        print(\"the number is not a prime number\")\n",
    "\n",
    "# primenumber(11)\n",
    "\n",
    "def primenumberoptimised(N):\n",
    "    count = 0\n",
    "\n",
    "    for i in range(1,int(math.sqrt(N)+ 1 )):\n",
    "         if N % i == 0:\n",
    "            count += 1\n",
    "            if N // i != i:\n",
    "                count += 1\n",
    "\n",
    "\n",
    "    if count == 2:\n",
    "        print(\"the number is a prime number\")\n",
    "    else:\n",
    "        print(\"the number is not a prime number\")\n",
    "\n",
    "# primenumberoptimised(4)\n",
    "\n",
    "\n",
    "def primenorange(start, end):\n",
    "    \n",
    "    for num in range(start, end+1):\n",
    "        if num > 1:\n",
    "            for i in range(2, num):\n",
    "                if num % i == 0:\n",
    "                    break\n",
    "            else:\n",
    "                print(num, end= ' ')\n",
    "\n",
    "# primenorange(2,11)\n",
    "\n",
    "def primeno(n):\n",
    "    for num in range(n+1): \n",
    "        if num > 1:\n",
    "            for i in range(2,num):\n",
    "                if num% i == 0:\n",
    "                    break\n",
    "            else:\n",
    "                print(num)\n",
    "primeno(33)"
   ]
  },
  {
   "cell_type": "markdown",
   "metadata": {},
   "source": [
    "## Peak element"
   ]
  },
  {
   "cell_type": "code",
   "execution_count": 118,
   "metadata": {},
   "outputs": [],
   "source": [
    "\n",
    "class Solution:   \n",
    "    def peakElement(self,arr):\n",
    "        # Code here\n",
    "        max = float('-inf')\n",
    "        index = 0\n",
    "        \n",
    "        for i in range(0, len(arr)):\n",
    "            if (max < arr[i]):\n",
    "                max = arr[i]\n",
    "                index = i\n",
    "        return index\n"
   ]
  },
  {
   "cell_type": "markdown",
   "metadata": {},
   "source": [
    "## Print name N times using Recursion"
   ]
  },
  {
   "cell_type": "code",
   "execution_count": 125,
   "metadata": {},
   "outputs": [
    {
     "name": "stdout",
     "output_type": "stream",
     "text": [
      "arun\n",
      "arun\n",
      "arun\n",
      "arun\n",
      "arun\n"
     ]
    }
   ],
   "source": [
    "def ntimesrecurs(i,n):\n",
    "\n",
    "    if i > n:\n",
    "        return\n",
    "\n",
    "    print(\"arun\")\n",
    "    ntimesrecurs(i+1,n)\n",
    "\n",
    "\n",
    "\n",
    "n = int(input(\"Enter: \"))\n",
    "ntimesrecurs(1,n)\n",
    "\n"
   ]
  },
  {
   "cell_type": "markdown",
   "metadata": {},
   "source": [
    "## Print  1 to N"
   ]
  },
  {
   "cell_type": "code",
   "execution_count": 126,
   "metadata": {},
   "outputs": [
    {
     "name": "stdout",
     "output_type": "stream",
     "text": [
      "0\n",
      "1\n",
      "2\n",
      "3\n",
      "4\n",
      "5\n"
     ]
    }
   ],
   "source": [
    "def oneton(i,N):\n",
    "\n",
    "    if i > N:\n",
    "        return\n",
    "    print(i)\n",
    "\n",
    "    oneton(i+1,N)\n",
    "\n",
    "N = int(input(\"enter: \"))\n",
    "oneton(0,n)"
   ]
  },
  {
   "cell_type": "code",
   "execution_count": 130,
   "metadata": {},
   "outputs": [
    {
     "name": "stdout",
     "output_type": "stream",
     "text": [
      "4\n",
      "3\n",
      "2\n",
      "1\n"
     ]
    }
   ],
   "source": [
    "def ntoone(i,n):\n",
    "\n",
    "    if i < 1:\n",
    "        return \n",
    "\n",
    "    print(i)\n",
    "\n",
    "    ntoone(i-1,n)\n",
    "\n",
    "n = int(input(\"enter: \"))\n",
    "ntoone(n,n)"
   ]
  },
  {
   "cell_type": "code",
   "execution_count": 138,
   "metadata": {},
   "outputs": [
    {
     "name": "stdout",
     "output_type": "stream",
     "text": [
      "3\n",
      "2\n",
      "1\n",
      "0\n"
     ]
    }
   ],
   "source": [
    "# backtracking n to 1\n",
    "\n",
    "def ntooneb(i,n):\n",
    "\n",
    "    if i > n:\n",
    "        return\n",
    "\n",
    "    ntooneb(i+1,n)\n",
    "    print(i)\n",
    "\n",
    "if __name__ == \"__main__\":\n",
    "    n = int(input(\"Enter the number: \"))\n",
    "    ntooneb(0,3)"
   ]
  },
  {
   "cell_type": "markdown",
   "metadata": {},
   "source": [
    "## sum of n numbers"
   ]
  },
  {
   "cell_type": "code",
   "execution_count": 140,
   "metadata": {},
   "outputs": [
    {
     "data": {
      "text/plain": [
       "6"
      ]
     },
     "execution_count": 140,
     "metadata": {},
     "output_type": "execute_result"
    }
   ],
   "source": [
    "def sumofn(n):\n",
    "    sum = 0\n",
    "    for i in range(0,n+1):\n",
    "        sum = sum + i\n",
    "    return sum\n",
    "\n",
    "sumofn(3)"
   ]
  },
  {
   "cell_type": "code",
   "execution_count": null,
   "metadata": {},
   "outputs": [
    {
     "data": {
      "text/plain": [
       "6"
      ]
     },
     "execution_count": 146,
     "metadata": {},
     "output_type": "execute_result"
    }
   ],
   "source": [
    "# in recursion\n",
    "\n",
    "# functional way\n",
    "\n",
    "def fun(n):\n",
    "    if n == 0:\n",
    "        return 0\n",
    "\n",
    "    return n + fun(n-1)\n",
    "\n",
    "fun(3)"
   ]
  },
  {
   "cell_type": "markdown",
   "metadata": {},
   "source": [
    "## Factorial "
   ]
  },
  {
   "cell_type": "code",
   "execution_count": 150,
   "metadata": {},
   "outputs": [
    {
     "data": {
      "text/plain": [
       "24"
      ]
     },
     "execution_count": 150,
     "metadata": {},
     "output_type": "execute_result"
    }
   ],
   "source": [
    "\n",
    "def fact(n):\n",
    "    if n == 0:\n",
    "        return 1\n",
    "\n",
    "    return n * fact(n-1)\n",
    "\n",
    "fact(4)\n"
   ]
  },
  {
   "cell_type": "markdown",
   "metadata": {},
   "source": [
    "## Reverse an array iusing recursion"
   ]
  },
  {
   "cell_type": "code",
   "execution_count": null,
   "metadata": {},
   "outputs": [
    {
     "data": {
      "text/plain": [
       "[5, 3, 2, 1]"
      ]
     },
     "execution_count": 159,
     "metadata": {},
     "output_type": "execute_result"
    }
   ],
   "source": [
    "def reversearr(arr):\n",
    "    left  = 0\n",
    "    right  =  len(arr)- 1\n",
    "    while(left < right):\n",
    "        temp = arr[left]\n",
    "        arr[left] = arr[right]\n",
    "        arr[right] = temp\n",
    "\n",
    "        left = left + 1\n",
    "        right  = right - 1\n",
    "    return arr\n",
    "\n",
    "arr = [1,2,3,5]\n",
    "reversearr(arr)\n",
    "\n",
    "\n"
   ]
  },
  {
   "cell_type": "markdown",
   "metadata": {},
   "source": [
    "## check if a string is a palindrome"
   ]
  },
  {
   "cell_type": "code",
   "execution_count": 165,
   "metadata": {},
   "outputs": [
    {
     "data": {
      "text/plain": [
       "'it is a palindrome'"
      ]
     },
     "execution_count": 165,
     "metadata": {},
     "output_type": "execute_result"
    }
   ],
   "source": [
    "def palindromestr(stv):\n",
    "    left = 0\n",
    "    right = len(stv) - 1 \n",
    "    flag = True\n",
    "    while(left < right):\n",
    "        if stv[left] != stv[right]:\n",
    "            flag = False\n",
    "            break\n",
    "        left = left + 1\n",
    "        right  = right - 1\n",
    "    \n",
    "    if flag:\n",
    "        return \"it is a palindrome\"\n",
    "    else:\n",
    "        return \"it is not a palindrome\"\n",
    "\n",
    "palindromestr(\"sas\")\n",
    "\n",
    "\n",
    "\n"
   ]
  },
  {
   "cell_type": "code",
   "execution_count": 181,
   "metadata": {},
   "outputs": [
    {
     "name": "stdout",
     "output_type": "stream",
     "text": [
      "[3]\n"
     ]
    }
   ],
   "source": [
    "strn = [1, 2, 3, 4, 5, 6, 7, 8]\n",
    "hi = strn[2:0:-2]\n",
    "print(hi)"
   ]
  },
  {
   "cell_type": "code",
   "execution_count": 185,
   "metadata": {},
   "outputs": [
    {
     "data": {
      "text/plain": [
       "'its not a palindrome'"
      ]
     },
     "execution_count": 185,
     "metadata": {},
     "output_type": "execute_result"
    }
   ],
   "source": [
    "def slicingpalin(strn):\n",
    "    if strn == strn[::-1]:\n",
    "        return \"its a palindrome\"\n",
    "    else:\n",
    "        return \"its not a palindrome\"\n",
    "\n",
    "slicingpalin(\"madam1\")"
   ]
  },
  {
   "cell_type": "markdown",
   "metadata": {},
   "source": [
    "## Fibonacci number"
   ]
  },
  {
   "cell_type": "code",
   "execution_count": 191,
   "metadata": {},
   "outputs": [
    {
     "data": {
      "text/plain": [
       "34"
      ]
     },
     "execution_count": 191,
     "metadata": {},
     "output_type": "execute_result"
    }
   ],
   "source": [
    "def feb(n):\n",
    "    prev = 0\n",
    "    curr = 1\n",
    "\n",
    "    if n == 0:\n",
    "        return 0\n",
    "    elif n == 1:\n",
    "        return curr\n",
    "    else:\n",
    "        for i in range(2,n):\n",
    "            next_fib = prev + curr\n",
    "            prev = curr\n",
    "            curr = next_fib\n",
    "\n",
    "        return curr\n",
    "\n",
    "fibo(9)"
   ]
  },
  {
   "cell_type": "code",
   "execution_count": 200,
   "metadata": {},
   "outputs": [
    {
     "data": {
      "text/plain": [
       "2"
      ]
     },
     "execution_count": 200,
     "metadata": {},
     "output_type": "execute_result"
    }
   ],
   "source": [
    "def feb2(n):\n",
    "    if n == 0:\n",
    "        return 0\n",
    "    elif n == 1:\n",
    "        return 1\n",
    "    return feb2(n-1) + feb2(n-2)\n",
    "\n",
    "feb2(3)"
   ]
  },
  {
   "cell_type": "markdown",
   "metadata": {},
   "source": [
    "# Largest element in an array"
   ]
  },
  {
   "cell_type": "code",
   "execution_count": 206,
   "metadata": {},
   "outputs": [
    {
     "data": {
      "text/plain": [
       "5"
      ]
     },
     "execution_count": 206,
     "metadata": {},
     "output_type": "execute_result"
    }
   ],
   "source": [
    "# brute -  using any sorting and then print(n-1)\n",
    "\n",
    "def largest(arr):\n",
    "    max = arr[0]\n",
    "\n",
    "    for i in range(0,len(arr)):\n",
    "        if arr[i] > max :\n",
    "            max = arr[i]\n",
    "    return max\n",
    "\n",
    "arr = [1,2,3,4,5]\n",
    "largest(arr)\n"
   ]
  },
  {
   "cell_type": "markdown",
   "metadata": {},
   "source": [
    "## Second largest element in an array"
   ]
  },
  {
   "cell_type": "code",
   "execution_count": null,
   "metadata": {},
   "outputs": [
    {
     "data": {
      "text/plain": [
       "4"
      ]
     },
     "execution_count": 214,
     "metadata": {},
     "output_type": "execute_result"
    }
   ],
   "source": [
    "# brute - sort \n",
    "\n",
    "#better - two pass\n",
    "\n",
    "\n",
    "def slargest(arr):\n",
    "    largest = arr[0]\n",
    "    slargest= -1\n",
    "    n = len(arr)\n",
    "\n",
    "    for i in range(0,n):\n",
    "        if arr[i] > largest :\n",
    "            largest = arr[i]\n",
    "\n",
    "\n",
    "    for k in range(n-2,-1,-1):\n",
    "        if arr[k] > slargest and arr[k] != largest:\n",
    "            slargest = arr[k]\n",
    "    return slargest\n",
    "\n",
    "\n",
    "arr = [1,2,3,4,5]\n",
    "slargest(arr)\n"
   ]
  },
  {
   "cell_type": "code",
   "execution_count": 219,
   "metadata": {},
   "outputs": [
    {
     "data": {
      "text/plain": [
       "(9, 5)"
      ]
     },
     "execution_count": 219,
     "metadata": {},
     "output_type": "execute_result"
    }
   ],
   "source": [
    "# single pass\n",
    "\n",
    "def largeslarge(arr):\n",
    "    largest = arr[0]\n",
    "    slargest = -1\n",
    "    n = len(arr)\n",
    "\n",
    "    for i in range(n):\n",
    "        if arr[i] > largest:\n",
    "            temp = largest\n",
    "            largest = arr[i]\n",
    "            slargest = temp\n",
    "        elif arr[i] < largest and arr[i] > slargest:\n",
    "            slargest = arr[i]\n",
    "\n",
    "    return largest, slargest\n",
    "\n",
    "\n",
    "arr = [1,2,3,4,1,3,9,5]\n",
    "largeslarge(arr)"
   ]
  },
  {
   "cell_type": "markdown",
   "metadata": {},
   "source": [
    "## Remove duplicates in-place from sorted array"
   ]
  },
  {
   "cell_type": "code",
   "execution_count": null,
   "metadata": {},
   "outputs": [],
   "source": []
  },
  {
   "cell_type": "code",
   "execution_count": null,
   "metadata": {},
   "outputs": [],
   "source": []
  }
 ],
 "metadata": {
  "kernelspec": {
   "display_name": "Python 3",
   "language": "python",
   "name": "python3"
  },
  "language_info": {
   "codemirror_mode": {
    "name": "ipython",
    "version": 3
   },
   "file_extension": ".py",
   "mimetype": "text/x-python",
   "name": "python",
   "nbconvert_exporter": "python",
   "pygments_lexer": "ipython3",
   "version": "3.12.0"
  }
 },
 "nbformat": 4,
 "nbformat_minor": 2
}
