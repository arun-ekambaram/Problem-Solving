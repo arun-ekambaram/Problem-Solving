{
 "cells": [
  {
   "cell_type": "markdown",
   "metadata": {},
   "source": [
    "#### Classes & Objects"
   ]
  },
  {
   "cell_type": "code",
   "execution_count": null,
   "metadata": {},
   "outputs": [
    {
     "name": "stdout",
     "output_type": "stream",
     "text": [
      "jerry\n",
      "stray\n",
      "jerry says woof!\n"
     ]
    }
   ],
   "source": [
    "class Dog:\n",
    "    # name, breed attributes\n",
    "    def __init__(self,name,breed):\n",
    "        #Instance variables\n",
    "        self.name = name\n",
    "        self.breed = breed\n",
    "\n",
    "    def bark(self):\n",
    "        print(f\"{self.name} says woof!\")\n",
    "\n",
    "dog1 = Dog(\"jackie\",\"stray\")\n",
    "dog2 = Dog(\"jerry\",\"stray\")\n",
    "\n",
    "\n",
    "print(dog2.name)\n",
    "print(dog1.breed)\n",
    "\n",
    "dog2.bark()"
   ]
  },
  {
   "cell_type": "code",
   "execution_count": 57,
   "metadata": {},
   "outputs": [
    {
     "data": {
      "text/plain": [
       "['__class__',\n",
       " '__delattr__',\n",
       " '__dict__',\n",
       " '__dir__',\n",
       " '__doc__',\n",
       " '__eq__',\n",
       " '__format__',\n",
       " '__ge__',\n",
       " '__getattribute__',\n",
       " '__getstate__',\n",
       " '__gt__',\n",
       " '__hash__',\n",
       " '__init__',\n",
       " '__init_subclass__',\n",
       " '__le__',\n",
       " '__lt__',\n",
       " '__module__',\n",
       " '__ne__',\n",
       " '__new__',\n",
       " '__reduce__',\n",
       " '__reduce_ex__',\n",
       " '__repr__',\n",
       " '__setattr__',\n",
       " '__sizeof__',\n",
       " '__str__',\n",
       " '__subclasshook__',\n",
       " '__weakref__',\n",
       " 'bark',\n",
       " 'speak']"
      ]
     },
     "execution_count": 57,
     "metadata": {},
     "output_type": "execute_result"
    }
   ],
   "source": [
    "dir(Dog)"
   ]
  },
  {
   "cell_type": "markdown",
   "metadata": {},
   "source": [
    "### What is a Class?\n",
    "\n",
    "A class is like a blueprint for creating objects. It defines what attributes (data) and methods (functions) the objects will have."
   ]
  },
  {
   "cell_type": "markdown",
   "metadata": {},
   "source": [
    "### What is an Object?\n",
    "\n",
    "An object is an instance of a class. It has the properties and behavior defined by the class.\n",
    "\n"
   ]
  },
  {
   "cell_type": "markdown",
   "metadata": {},
   "source": [
    "### What is a Constructor (__init__)?\n",
    "\n",
    "A constructor is a special method in Python that runs automatically whenever you create a new object from a class. In Python, this constructor method is named __init__().\n",
    "\n",
    "Purpose of __init__:\n",
    "Initialize object properties (attributes) with values.\n",
    "\n",
    "Prepare the object for use."
   ]
  },
  {
   "cell_type": "markdown",
   "metadata": {},
   "source": [
    " ### Why __init__ instead of a normal method?\n",
    "\n",
    "Python uses special \"dunder\" methods (double underscores), like __init__, __str__, __len__, to hook into object behavior.\n",
    "\n",
    "__init__() is automatically called when an object is created — unlike other methods which must be called manually."
   ]
  },
  {
   "cell_type": "markdown",
   "metadata": {},
   "source": [
    " ### What’s Happening Here?\n",
    "\n",
    "__init__() is a special method called the constructor. It runs automatically when you create an object.\n",
    "\n",
    "self refers to the current instance of the class.\n",
    "\n",
    "We pass values (\"Buddy\", \"Golden Retriever\") when we create the object — these are stored as object-specific data."
   ]
  },
  {
   "cell_type": "code",
   "execution_count": null,
   "metadata": {},
   "outputs": [],
   "source": [
    "# example:\n",
    "\n",
    "class ClassName:\n",
    "    def __init__(self, attribute1, attribute2):\n",
    "        self.attribute1 = attribute1\n",
    "        self.attribute2 = attribute2\n",
    "\n",
    "#     def method_name(self):\n",
    "#         # do something"
   ]
  },
  {
   "cell_type": "code",
   "execution_count": 18,
   "metadata": {},
   "outputs": [
    {
     "name": "stdout",
     "output_type": "stream",
     "text": [
      "Titanic\n",
      "Thriller\n",
      "Adhi likes Iron man movie because it is of Thriller genre \n",
      "Arun likes Titanic movie because it is of Love genre \n"
     ]
    }
   ],
   "source": [
    "\n",
    "class Movie:\n",
    "    def __init__(arun, boy, movie_name, genre):\n",
    "        arun.movie_name = movie_name\n",
    "        arun.genre = genre\n",
    "        arun.boy = boy\n",
    "    \n",
    "    def likedmovies(self):\n",
    "        print(f\"{self.boy} likes {self.movie_name} movie because it is of {self.genre} genre \")\n",
    "\n",
    "    \n",
    "movie1 = Movie(\"Arun\",\"Titanic\",\"Love\")\n",
    "movie2 = Movie(\"Adhi\",\"Iron man\",\"Thriller\")\n",
    "\n",
    "print(movie1.movie_name)\n",
    "print(movie2.genre)\n",
    "\n",
    "movie2.likedmovies()\n",
    "movie1.likedmovies()"
   ]
  },
  {
   "cell_type": "code",
   "execution_count": 58,
   "metadata": {},
   "outputs": [
    {
     "data": {
      "text/plain": [
       "['__class__',\n",
       " '__delattr__',\n",
       " '__dict__',\n",
       " '__dir__',\n",
       " '__doc__',\n",
       " '__eq__',\n",
       " '__format__',\n",
       " '__ge__',\n",
       " '__getattribute__',\n",
       " '__getstate__',\n",
       " '__gt__',\n",
       " '__hash__',\n",
       " '__init__',\n",
       " '__init_subclass__',\n",
       " '__le__',\n",
       " '__lt__',\n",
       " '__module__',\n",
       " '__ne__',\n",
       " '__new__',\n",
       " '__reduce__',\n",
       " '__reduce_ex__',\n",
       " '__repr__',\n",
       " '__setattr__',\n",
       " '__sizeof__',\n",
       " '__str__',\n",
       " '__subclasshook__',\n",
       " '__weakref__',\n",
       " 'likedmovies']"
      ]
     },
     "execution_count": 58,
     "metadata": {},
     "output_type": "execute_result"
    }
   ],
   "source": [
    "dir(Movie)"
   ]
  },
  {
   "cell_type": "markdown",
   "metadata": {},
   "source": [
    "### What is Encapsulation?\n",
    "\n",
    "Encapsulation is the concept of hiding internal object details and only exposing what's necessary. Think of it as putting data and functions that operate on the data inside a protective capsule (class).\n",
    "\n",
    "### This helps:\n",
    "\n",
    "Prevent unwanted changes to data\n",
    "\n",
    "Control how data is accessed/modified\n",
    "\n",
    "Keep your code organized and secure\n",
    "\n",
    "### Real-Life Analogy:\n",
    "Think of a coffee machine:\n",
    "\n",
    "You press buttons to make coffee (public methods)\n",
    "\n",
    "You can’t access the internal wiring or heating logic (private stuff)\n",
    "\n",
    "### How to Achieve Encapsulation in Python?\n",
    "Python uses naming conventions to indicate access level:\n",
    "\n",
    "\n",
    "Public\t- self.name\t (Can be accessed/changed freely)\n",
    "\n",
    "Protected\t- self._name\t(Internal use (convention))\n",
    "\n",
    "Private\t- self.__name\t(Not accessible directly)\n",
    "\n"
   ]
  },
  {
   "cell_type": "code",
   "execution_count": 41,
   "metadata": {},
   "outputs": [
    {
     "name": "stdout",
     "output_type": "stream",
     "text": [
      "Arun\n",
      "the balance amount is 2000\n",
      "the balance amount is 1000\n",
      "the balance amount is 5000\n",
      "the balance amount is 0\n",
      "insufficient funds\n",
      "1000\n",
      "the person has this account Savings\n"
     ]
    }
   ],
   "source": [
    "class Bank:\n",
    "    def __init__(this,owner,balance, account_type):\n",
    "        this.owner = owner # public\n",
    "        this._account_type = account_type # protected\n",
    "        this.__balance = balance #private\n",
    "\n",
    "    def deposit(this,amount):\n",
    "        if amount > 0:\n",
    "            this.__balance += amount\n",
    "        else:\n",
    "            print(\"Invalid deposit amount\")\n",
    "\n",
    "\n",
    "\n",
    "        print(f\"this amount {this.__balance} has been added\")\n",
    "\n",
    "    def withdraw(this,amount):\n",
    "        if amount <= this.__balance:\n",
    "            this.__balance -= amount\n",
    "        else:\n",
    "            print(\"insufficient funds\")\n",
    "\n",
    "    def get_balance(this):\n",
    "        return (f\"the balance amount is {this.__balance}\")\n",
    "    \n",
    "    def get_account_type(this):\n",
    "        return (f\"the person has this account {this._account_type}\")\n",
    "\n",
    "\n",
    "        \n",
    "acc = Bank(\"Arun\", 2000,\"Savings\")\n",
    "acc1 = Bank(\"Adhi\", 5000,\"Normal\")\n",
    "print(acc.owner)\n",
    "# print(acc.__balance)  # Can't access private variable directly\n",
    "print(acc.get_balance())\n",
    "acc.withdraw(1000)\n",
    "print(acc.get_balance())\n",
    "print(acc1.get_balance())\n",
    "acc1.withdraw(5000)\n",
    "print(acc1.get_balance())\n",
    "acc1.withdraw(1000)\n",
    "print(acc._Bank__balance)  # Not recommended, breaks encapsulation\n",
    "\n",
    "print(acc.get_account_type())\n"
   ]
  },
  {
   "cell_type": "markdown",
   "metadata": {},
   "source": [
    "### Key Benefits of Encapsulation:\n",
    "\n",
    "Prevents accidental modification of data\n",
    "\n",
    "Protects object integrity\n",
    "\n",
    "Enables you to change internal implementation without affecting external code\n",
    "\n",
    "Cleaner and more maintainable code\n",
    "\n"
   ]
  },
  {
   "cell_type": "markdown",
   "metadata": {},
   "source": [
    "### Analogy:\n",
    "Think of a juice factory:\n",
    "\n",
    "Public: You see the bottles in the store.\n",
    "\n",
    "Protected: Employees inside the factory can access the mixing room (not the public).\n",
    "\n",
    "Private: Only a select few can access the core formula — even employees can’t touch it."
   ]
  },
  {
   "cell_type": "markdown",
   "metadata": {},
   "source": [
    "### Difference between Encapsulation and Abstraction\n",
    "\n",
    "Encapsulation hides variables or some implementation that may be changed so often in a class to prevent outsiders access it directly. They must access it via getter and setter methods.\n",
    "\n",
    "Abstraction is used to hide something too, but in a higher degree (class, interface). Clients who use an abstract class (or interface) do not care about what it was, they just need to know what it can do.\n",
    "\n",
    "![alt text](image.png)\n",
    "\n"
   ]
  },
  {
   "cell_type": "markdown",
   "metadata": {},
   "source": [
    "## Inheritance"
   ]
  },
  {
   "cell_type": "markdown",
   "metadata": {},
   "source": [
    "It allows one class (child/subclass) to inherit the properties and methods of another class (parent/superclass), reducing code duplication and encouraging reusability.\n",
    "\n",
    "### Real-Life Analogy:\n",
    "\n",
    "Imagine a general class called Vehicle.\n",
    "A Car or Bike is a specific type of Vehicle, right?\n",
    "\n",
    "So instead of rewriting code for all vehicles, we write it once in the parent class and reuse it in subclasses.\n",
    "\n"
   ]
  },
  {
   "cell_type": "code",
   "execution_count": 54,
   "metadata": {},
   "outputs": [
    {
     "name": "stdout",
     "output_type": "stream",
     "text": [
      "Tesla\n",
      "Black\n",
      "model X\n",
      "Tesla engine has started\n",
      "Brand: Tesla, Model: model X, Color: Black\n"
     ]
    }
   ],
   "source": [
    "# Parent class\n",
    "\n",
    "class Vehicle:\n",
    "    def __init__(self,brand, color):\n",
    "         # Initializes the  attribute of the Vehicle object with the value passed during object creation\n",
    "        self.brand = brand\n",
    "        self.color = color\n",
    "\n",
    "    def start_engine(self):\n",
    "        return (f\"{self.brand} engine has started\")\n",
    "\n",
    "\n",
    "# Child class\n",
    "\n",
    "class Car(Vehicle):\n",
    "    def __init__(self,brand,color,model):\n",
    "        super().__init__(brand,color)\n",
    "        self.model = model\n",
    "\n",
    "\n",
    "    def show_details(self):\n",
    "        return (f\"Brand: {self.brand}, Model: {self.model}, Color: {self.color}\") \n",
    "\n",
    "\n",
    "\n",
    "car1 = Car(\"Tesla\", \"Black\", \"model X\")\n",
    "\n",
    "print(car1.brand)\n",
    "print(car1.color)\n",
    "print(car1.model)\n",
    "print(car1.start_engine())\n",
    "print(car1.show_details())\n",
    "\n"
   ]
  },
  {
   "cell_type": "code",
   "execution_count": 60,
   "metadata": {},
   "outputs": [
    {
     "name": "stdout",
     "output_type": "stream",
     "text": [
      "[<class '__main__.Car'>, <class '__main__.Vehicle'>, <class 'object'>]\n"
     ]
    }
   ],
   "source": [
    "print(Car.mro())\n"
   ]
  },
  {
   "cell_type": "markdown",
   "metadata": {},
   "source": [
    "## Key Concepts in Inheritance:\n",
    "\n",
    "\n",
    "- super()\t- Calls the parent class constructor/methods\n",
    "- Single Inheritance\t -   One child class inherits from one parent\n",
    "- Multiple Inheritance\t  -  A child inherits from more than one parent\n",
    "- Multilevel Inheritance\t-   Inheritance chain like Grandparent → Parent → Child "
   ]
  },
  {
   "cell_type": "markdown",
   "metadata": {},
   "source": [
    "### Single Inheritance - One child class inherits from one parent class.\n",
    "\n"
   ]
  },
  {
   "cell_type": "code",
   "execution_count": 56,
   "metadata": {},
   "outputs": [
    {
     "name": "stdout",
     "output_type": "stream",
     "text": [
      "Animal constructor called\n",
      "Dog constructor called\n",
      "Animal makes a sound\n",
      "Dog barks\n"
     ]
    }
   ],
   "source": [
    "class Animal:\n",
    "    def __init__(self):\n",
    "        print(\"Animal constructor called\")\n",
    "\n",
    "    def speak(self):\n",
    "        print(\"Animal makes a sound\")\n",
    "\n",
    "class Dog(Animal):\n",
    "    def __init__(self):\n",
    "        super().__init__()  # Calls Animal's constructor\n",
    "        print(\"Dog constructor called\")\n",
    "\n",
    "    def bark(self):\n",
    "        print(\"Dog barks\")\n",
    "\n",
    "# Usage\n",
    "d = Dog()\n",
    "d.speak()\n",
    "d.bark()\n"
   ]
  },
  {
   "cell_type": "markdown",
   "metadata": {},
   "source": [
    "### Multiple Inheritance - One child class inherits from two or more parent classes.\n",
    "\n",
    "Python follows MRO (Method Resolution Order) — left to right."
   ]
  },
  {
   "cell_type": "code",
   "execution_count": 61,
   "metadata": {},
   "outputs": [
    {
     "name": "stdout",
     "output_type": "stream",
     "text": [
      "Father constructor called\n",
      "Child constructor called\n",
      "Gardening, Cooking\n",
      "Painting, Dancing\n",
      "Gaming, Music\n"
     ]
    }
   ],
   "source": [
    "class Father:\n",
    "    def __init__(self):\n",
    "        print(\"Father constructor called\")\n",
    "\n",
    "    def skills(self):\n",
    "        print(\"Gardening, Cooking\")\n",
    "\n",
    "class Mother:\n",
    "    def __init__(self):\n",
    "        print(\"Mother constructor called\")\n",
    "\n",
    "    def talents(self):\n",
    "        print(\"Painting, Dancing\")\n",
    "\n",
    "class Child(Father, Mother):\n",
    "    def __init__(self):\n",
    "        super().__init__()  # Will call Father's constructor due to MRO\n",
    "        print(\"Child constructor called\")\n",
    "\n",
    "    def hobbies(self):\n",
    "        print(\"Gaming, Music\")\n",
    "\n",
    "# Usage\n",
    "c = Child()\n",
    "c.skills()\n",
    "c.talents()\n",
    "c.hobbies()\n"
   ]
  },
  {
   "cell_type": "markdown",
   "metadata": {},
   "source": [
    "Note: super() in multiple inheritance calls only the first parent class’s constructor unless handled differently."
   ]
  },
  {
   "cell_type": "code",
   "execution_count": 63,
   "metadata": {},
   "outputs": [
    {
     "name": "stdout",
     "output_type": "stream",
     "text": [
      "Father constructor called\n",
      "Mother constructor called\n",
      "Child constructor called\n",
      "Gardening, Cooking\n",
      "Painting, Dancing\n",
      "Gaming, Music\n"
     ]
    }
   ],
   "source": [
    "class Father:\n",
    "    def __init__(self):\n",
    "        print(\"Father constructor called\")\n",
    "\n",
    "    def skills(self):\n",
    "        print(\"Gardening, Cooking\")\n",
    "\n",
    "class Mother:\n",
    "    def __init__(self):\n",
    "        print(\"Mother constructor called\")\n",
    "\n",
    "    def talents(self):\n",
    "        print(\"Painting, Dancing\")\n",
    "\n",
    "class Child(Father, Mother):\n",
    "    def __init__(self):\n",
    "        Father.__init__(self)   # Manually calling\n",
    "        Mother.__init__(self)   # Manually calling\n",
    "        print(\"Child constructor called\")\n",
    "\n",
    "    def hobbies(self):\n",
    "        print(\"Gaming, Music\")\n",
    "\n",
    "# Usage\n",
    "c = Child()\n",
    "c.skills()     # From Father\n",
    "c.talents()    # From Mother\n",
    "c.hobbies()    # Own method\n"
   ]
  },
  {
   "cell_type": "markdown",
   "metadata": {},
   "source": [
    "## Multilevel Inheritance with super()"
   ]
  },
  {
   "cell_type": "code",
   "execution_count": 62,
   "metadata": {},
   "outputs": [
    {
     "name": "stdout",
     "output_type": "stream",
     "text": [
      "Vehicle constructor called\n",
      "Car constructor called\n",
      "ElectricCar constructor called\n",
      "Vehicle has an engine\n",
      "Car has 4 wheels\n",
      "Runs on battery\n"
     ]
    }
   ],
   "source": [
    "class Vehicle:\n",
    "    def __init__(self):\n",
    "        print(\"Vehicle constructor called\")\n",
    "\n",
    "    def has_engine(self):\n",
    "        print(\"Vehicle has an engine\")\n",
    "\n",
    "class Car(Vehicle):\n",
    "    def __init__(self):\n",
    "        super().__init__()  # Calls Vehicle's constructor\n",
    "        print(\"Car constructor called\")\n",
    "\n",
    "    def wheels(self):\n",
    "        print(\"Car has 4 wheels\")\n",
    "\n",
    "class ElectricCar(Car):\n",
    "    def __init__(self):\n",
    "        super().__init__()  # Calls Car's constructor (which in turn calls Vehicle's)\n",
    "        print(\"ElectricCar constructor called\")\n",
    "\n",
    "    def battery(self):\n",
    "        print(\"Runs on battery\")\n",
    "\n",
    "# Usage\n",
    "ecar = ElectricCar()\n",
    "ecar.has_engine()\n",
    "ecar.wheels()\n",
    "ecar.battery()\n"
   ]
  },
  {
   "cell_type": "markdown",
   "metadata": {},
   "source": [
    "Quick Note on super()\n",
    "It helps us avoid redundancy and keeps inheritance clean.\n",
    "\n",
    "In multilevel, it forms a chain (child → parent → grandparent).\n",
    "\n",
    "In multiple, Python uses MRO to determine which parent’s method to run."
   ]
  },
  {
   "cell_type": "markdown",
   "metadata": {},
   "source": [
    "## Polymorphism\n",
    "\n",
    "\n"
   ]
  },
  {
   "cell_type": "markdown",
   "metadata": {},
   "source": [
    "What is Polymorphism?\n",
    "\n",
    "“Poly” = many, “morph” = forms.\n",
    "So basically → One interface, many implementations.\n",
    "\n",
    "Same method name or function behaves differently depending on the object or class.\n",
    "\n"
   ]
  },
  {
   "cell_type": "code",
   "execution_count": null,
   "metadata": {},
   "outputs": [
    {
     "data": {
      "text/plain": [
       "'jackie says woof woof'"
      ]
     },
     "execution_count": 68,
     "metadata": {},
     "output_type": "execute_result"
    }
   ],
   "source": [
    "class Animal:\n",
    "    def __init__(self,dog_name, dog_age):\n",
    "        self.dog_name = dog_name\n",
    "        self.dog_age = dog_age\n",
    "\n",
    "    \n",
    "    def speak(self):\n",
    "        return f\"{self.dog_name} says woof\"\n",
    "    \n",
    "\n",
    "class Dog(Animal):\n",
    "    def __init__(self,dog_name,dog_age,dog_breed):\n",
    "        super().__init__(dog_name,dog_age)\n",
    "        self.dog_breed = dog_breed\n",
    "\n",
    "    def speak(self):\n",
    "        return f\"{self.dog_name} says woof woof\"\n",
    "\n",
    "    \n",
    "\n",
    "\n",
    "dog1 = Dog(\"jackie\",4,\"stray\")\n",
    "dog1.speak()\n",
    "\n",
    "\n"
   ]
  },
  {
   "cell_type": "code",
   "execution_count": 77,
   "metadata": {},
   "outputs": [
    {
     "name": "stdout",
     "output_type": "stream",
     "text": [
      "jackie says woof woof\n"
     ]
    }
   ],
   "source": [
    "class Animal:\n",
    "    def __init__(self,name, age):\n",
    "        self.name = name\n",
    "        self.age = age\n",
    "\n",
    "    \n",
    "    def speak(self):\n",
    "        return f\"{self.name} says woof\"\n",
    "    \n",
    "\n",
    "class Dog(Animal):\n",
    "    def __init__(self,name,age,breed):\n",
    "        super().__init__(name,age)\n",
    "        self.breed = breed\n",
    "\n",
    "    def speak(self):\n",
    "        return f\"{self.name} says woof woof\"\n",
    "    \n",
    "class Cat(Dog):\n",
    "    def __init__(self,name,age,breed):\n",
    "        super().__init__(name,age,breed)\n",
    "\n",
    "    def speak(self):\n",
    "        return f\"{self.name} says meow\"\n",
    "        \n",
    "\n",
    "# Function that demonstrates polymorphism\n",
    "\n",
    "def animal_speak(ani):\n",
    "    print(ani.speak())\n",
    "\n",
    "\n",
    "dog1 = Dog(\"jackie\",4,\"stray\")\n",
    "dog1.speak()\n",
    "\n",
    "cat1 = Cat(\"pussy\", 4, \"stray\")\n",
    "cat1.speak()\n",
    "animal_speak(dog1)\n",
    "\n"
   ]
  },
  {
   "cell_type": "markdown",
   "metadata": {},
   "source": [
    "## Abstraction"
   ]
  },
  {
   "cell_type": "markdown",
   "metadata": {},
   "source": [
    "What is Abstraction?\n",
    "\n",
    "Abstraction is all about hiding unnecessary implementation details and showing only the essential features.\n",
    "\n",
    "Think of it as:\n",
    "\n",
    "\"Using something without worrying about how it works internally.\""
   ]
  },
  {
   "cell_type": "markdown",
   "metadata": {},
   "source": [
    "Real-Life Analogy:\n",
    "\n",
    "When you drive a car:\n",
    "\n",
    "You press the accelerator to move.\n",
    "\n",
    "You don’t need to know how the engine burns fuel or how the transmission works.\n",
    "\n",
    "Similarly, with abstraction:\n",
    "\n",
    "You define what needs to be done, but not how it’s done (that’s handled internally)."
   ]
  },
  {
   "cell_type": "markdown",
   "metadata": {},
   "source": [
    "How to Implement Abstraction in Python?\n",
    "\n",
    "Using the abc module:\n",
    "\n",
    "ABC: Abstract Base Class (cannot be instantiated)\n",
    "\n",
    "@abstractmethod: A method that must be implemented by any child class."
   ]
  },
  {
   "cell_type": "code",
   "execution_count": 78,
   "metadata": {},
   "outputs": [],
   "source": [
    "from abc import ABC, abstractmethod\n",
    "\n",
    "# Abstract Base Class\n",
    "class Animal(ABC):\n",
    "    def __init__(self, name):\n",
    "        self.name = name\n",
    "\n",
    "    @abstractmethod\n",
    "    def sound(self):\n",
    "        # Abstract method (no implementation here)\n",
    "        pass\n",
    "\n",
    "    def info(self):\n",
    "        # Concrete method (shared behavior)\n",
    "        print(f\"This is {self.name}\")\n",
    "\n",
    "# Child class 1\n",
    "class Dog(Animal):\n",
    "    def sound(self):\n",
    "        return f\"{self.name} says Woof!\"\n",
    "\n",
    "# Child class 2\n",
    "class Cat(Animal):\n",
    "    def sound(self):\n",
    "        return f\"{self.name} says Meow!\"\n"
   ]
  },
  {
   "cell_type": "code",
   "execution_count": null,
   "metadata": {},
   "outputs": [],
   "source": []
  },
  {
   "cell_type": "code",
   "execution_count": 79,
   "metadata": {},
   "outputs": [
    {
     "name": "stdout",
     "output_type": "stream",
     "text": [
      "This is Buddy\n",
      "Buddy says Woof!\n",
      "This is Whiskers\n",
      "Whiskers says Meow!\n"
     ]
    }
   ],
   "source": [
    "dog1 = Dog(\"Buddy\")\n",
    "cat1 = Cat(\"Whiskers\")\n",
    "\n",
    "dog1.info()          # Shared method from Animal\n",
    "print(dog1.sound())  # Dog-specific implementation\n",
    "\n",
    "cat1.info()\n",
    "print(cat1.sound())\n"
   ]
  },
  {
   "cell_type": "code",
   "execution_count": 80,
   "metadata": {},
   "outputs": [
    {
     "name": "stdout",
     "output_type": "stream",
     "text": [
      "jackie says woof\n"
     ]
    }
   ],
   "source": [
    "from abc import ABC, abstractmethod\n",
    "\n",
    "class Animal(ABC):\n",
    "    def __init__(self,name,age):\n",
    "        self.name = name\n",
    "        self.age = age\n",
    "\n",
    "    @abstractmethod\n",
    "    def speak(self):\n",
    "        pass\n",
    "\n",
    "\n",
    "class Dog(Animal):\n",
    "    def speak(self):\n",
    "        return f\"{self.name} says woof\"\n",
    "    \n",
    "\n",
    "dog4= Dog(\"jackie\",3)\n",
    "print(dog4.speak())"
   ]
  },
  {
   "cell_type": "markdown",
   "metadata": {},
   "source": [
    "## Operator Overloading"
   ]
  },
  {
   "cell_type": "markdown",
   "metadata": {},
   "source": [
    "Operator overloading means giving special meaning to standard Python operators (+, -, *, etc.) when they're used with your custom classes.\n",
    "\n",
    "Instead of:\n",
    "\n",
    "5 + 10  → 15 "
   ]
  },
  {
   "cell_type": "markdown",
   "metadata": {},
   "source": [
    "You can do:\n",
    "\n",
    "\n",
    "obj1 + obj2  → something meaningful based on your class\n"
   ]
  },
  {
   "cell_type": "code",
   "execution_count": 1,
   "metadata": {},
   "outputs": [
    {
     "data": {
      "text/plain": [
       "'\\nYou override special magic methods (also called dunder methods) like:\\n\\n\\nOperator\\tMethod\\n+\\t__add__(self, other)\\n-\\t__sub__(self, other)\\n*\\t__mul__(self, other)\\n==\\t__eq__(self, other)\\n<\\t__lt__(self, other)\\n'"
      ]
     },
     "execution_count": 1,
     "metadata": {},
     "output_type": "execute_result"
    }
   ],
   "source": [
    "'''\n",
    "You override special magic methods (also called dunder methods) like:\n",
    "\n",
    "\n",
    "Operator\tMethod\n",
    "+\t__add__(self, other)\n",
    "-\t__sub__(self, other)\n",
    "*\t__mul__(self, other)\n",
    "==\t__eq__(self, other)\n",
    "<\t__lt__(self, other)\n",
    "'''"
   ]
  },
  {
   "cell_type": "markdown",
   "metadata": {},
   "source": [
    "Example: Add two Dog objects and get their combined age"
   ]
  },
  {
   "cell_type": "code",
   "execution_count": 2,
   "metadata": {},
   "outputs": [
    {
     "name": "stdout",
     "output_type": "stream",
     "text": [
      "9\n",
      "Jackie (4 years)\n"
     ]
    }
   ],
   "source": [
    "class Dog:\n",
    "    def __init__(self, name, age):\n",
    "        self.name = name\n",
    "        self.age = age\n",
    "\n",
    "    def __add__(self, other):\n",
    "        return self.age + other.age\n",
    "\n",
    "    def __str__(self):\n",
    "        return f\"{self.name} ({self.age} years)\"\n",
    "\n",
    "# Usage\n",
    "dog1 = Dog(\"Jackie\", 4)\n",
    "dog2 = Dog(\"Bruno\", 5)\n",
    "\n",
    "print(dog1 + dog2)        # Output: 9\n",
    "print(dog1)               # Output: Jackie (4 years)\n"
   ]
  },
  {
   "cell_type": "markdown",
   "metadata": {},
   "source": [
    "What happened?\n",
    "dog1 + dog2 → Python internally calls dog1.__add__(dog2)\n",
    "\n",
    "We defined that to return the sum of ages"
   ]
  },
  {
   "cell_type": "code",
   "execution_count": 4,
   "metadata": {},
   "outputs": [
    {
     "data": {
      "text/plain": [
       "'\\nyou can also overload:\\n__eq__ → Compare objects\\n\\n__lt__, __gt__ → Less than / Greater than\\n\\n__str__ → Custom print output\\n\\n__len__ → Use len(obj)\\n\\n'"
      ]
     },
     "execution_count": 4,
     "metadata": {},
     "output_type": "execute_result"
    }
   ],
   "source": [
    "'''\n",
    "you can also overload:\n",
    "__eq__ → Compare objects\n",
    "\n",
    "__lt__, __gt__ → Less than / Greater than\n",
    "\n",
    "__str__ → Custom print output\n",
    "\n",
    "__len__ → Use len(obj)\n",
    "\n",
    "'''"
   ]
  },
  {
   "cell_type": "code",
   "execution_count": 5,
   "metadata": {},
   "outputs": [
    {
     "name": "stdout",
     "output_type": "stream",
     "text": [
      "False\n"
     ]
    }
   ],
   "source": [
    "class Student:\n",
    "    def __init__(self, name, marks):\n",
    "        self.name = name\n",
    "        self.marks = marks\n",
    "\n",
    "    def __gt__(self, other):  # Overload >\n",
    "        return self.marks > other.marks\n",
    "\n",
    "s1 = Student(\"Arun\", 88)\n",
    "s2 = Student(\"Neha\", 92)\n",
    "\n",
    "print(s1 > s2)  # False\n"
   ]
  },
  {
   "cell_type": "markdown",
   "metadata": {},
   "source": [
    "## Custom Exception (Raise and Throw)"
   ]
  },
  {
   "cell_type": "code",
   "execution_count": 6,
   "metadata": {},
   "outputs": [],
   "source": [
    "class CustomError(Exception):\n",
    "    pass\n"
   ]
  },
  {
   "cell_type": "code",
   "execution_count": 9,
   "metadata": {},
   "outputs": [
    {
     "name": "stdout",
     "output_type": "stream",
     "text": [
      "Error: Age should be atleast 18\n"
     ]
    }
   ],
   "source": [
    "class AgeTooSmallError(Exception):\n",
    "    def __init__(self, message = \"Age should be atleast 18\"):\n",
    "        self.message = message\n",
    "        super().__init__(self.message)\n",
    "\n",
    "def check_age(age):\n",
    "    if age <18:\n",
    "        raise AgeTooSmallError\n",
    "    else:\n",
    "        print(\"Access granted\")\n",
    "\n",
    "try:\n",
    "    check_age(15)\n",
    "except AgeTooSmallError as e:\n",
    "    print(f\"Error: {e}\")\n"
   ]
  },
  {
   "cell_type": "code",
   "execution_count": 11,
   "metadata": {},
   "outputs": [
    {
     "name": "stdout",
     "output_type": "stream",
     "text": [
      "Error: Age 16 is too small. Minimum age is 18.\n",
      "You are allowed to proceed!\n"
     ]
    }
   ],
   "source": [
    "# 1. Define the custom exception\n",
    "class AgeTooSmallError(Exception):\n",
    "    def __init__(self, message=\"Age must be at least 18 to proceed\"):\n",
    "        self.message = message\n",
    "        super().__init__(self.message)\n",
    "\n",
    "# 2. A function that validates the age and handles exceptions internally\n",
    "def check_age(age):\n",
    "    try:\n",
    "        # 3. Check if the age is too small\n",
    "        if age < 18:\n",
    "            raise AgeTooSmallError(f\"Age {age} is too small. Minimum age is 18.\")\n",
    "        else:\n",
    "            print(\"You are allowed to proceed!\")\n",
    "\n",
    "    except AgeTooSmallError as e:\n",
    "        # Handle the custom exception\n",
    "        print(f\"Error: {e}\")\n",
    "    except Exception as e:\n",
    "        # Catch any unexpected errors\n",
    "        print(f\"Unexpected error: {e}\")\n",
    "\n",
    "# 4. Test the function\n",
    "check_age(16)  # This will raise the custom exception\n",
    "check_age(20)  # This will print success\n"
   ]
  },
  {
   "cell_type": "code",
   "execution_count": 10,
   "metadata": {},
   "outputs": [],
   "source": [
    "class AppError(Exception):\n",
    "    pass\n",
    "\n",
    "class DatabaseError(AppError):\n",
    "    pass\n",
    "\n",
    "class APIError(AppError):\n",
    "    pass\n",
    "\n",
    "\n"
   ]
  },
  {
   "cell_type": "code",
   "execution_count": null,
   "metadata": {},
   "outputs": [],
   "source": []
  },
  {
   "cell_type": "code",
   "execution_count": null,
   "metadata": {},
   "outputs": [],
   "source": []
  },
  {
   "cell_type": "code",
   "execution_count": null,
   "metadata": {},
   "outputs": [],
   "source": []
  },
  {
   "cell_type": "code",
   "execution_count": null,
   "metadata": {},
   "outputs": [],
   "source": []
  },
  {
   "cell_type": "code",
   "execution_count": null,
   "metadata": {},
   "outputs": [],
   "source": []
  },
  {
   "cell_type": "code",
   "execution_count": null,
   "metadata": {},
   "outputs": [],
   "source": []
  },
  {
   "cell_type": "code",
   "execution_count": null,
   "metadata": {},
   "outputs": [],
   "source": []
  }
 ],
 "metadata": {
  "kernelspec": {
   "display_name": "Python 3",
   "language": "python",
   "name": "python3"
  },
  "language_info": {
   "codemirror_mode": {
    "name": "ipython",
    "version": 3
   },
   "file_extension": ".py",
   "mimetype": "text/x-python",
   "name": "python",
   "nbconvert_exporter": "python",
   "pygments_lexer": "ipython3",
   "version": "3.12.0"
  }
 },
 "nbformat": 4,
 "nbformat_minor": 2
}
