{
 "cells": [
  {
   "cell_type": "markdown",
   "id": "d69918c5-43c8-4e58-8826-87cc20d5a787",
   "metadata": {},
   "source": [
    "## Polynomial Regression"
   ]
  },
  {
   "cell_type": "markdown",
   "id": "65abd4b3-cf91-4cfc-ba09-5a92d79ebfe1",
   "metadata": {},
   "source": [
    "Import Libraries"
   ]
  },
  {
   "cell_type": "code",
   "execution_count": 4,
   "id": "90968313-dce3-4bfc-8cf3-aaab0b5ed6b3",
   "metadata": {},
   "outputs": [],
   "source": [
    "import pandas as pd\n",
    "import numpy as np\n",
    "import matplotlib.pyplot as plt\n",
    "%matplotlib inline\n",
    "import seaborn as sns"
   ]
  },
  {
   "cell_type": "code",
   "execution_count": 14,
   "id": "721be1cd-5d43-4489-871b-4cff85bb123a",
   "metadata": {},
   "outputs": [],
   "source": [
    "#quadratic equation in the form of 1.5x^2 + 1.5x + 2 + outliers\n",
    "X = 6 * np.random.rand(100,1) - 3\n",
    "y = 0.5 * X**2 + 1.5*X + 2 + np.random.randn(100,1)\n"
   ]
  },
  {
   "cell_type": "code",
   "execution_count": 18,
   "id": "c6c1b0cf-04ed-4d74-a52a-b71cec295694",
   "metadata": {},
   "outputs": [
    {
     "data": {
      "text/plain": [
       "Text(0, 0.5, 'y dataset')"
      ]
     },
     "execution_count": 18,
     "metadata": {},
     "output_type": "execute_result"
    },
    {
     "data": {
      "image/png": "[encoded data removed]",
      "text/plain": [
       "<Figure size 640x480 with 1 Axes>"
      ]
     },
     "metadata": {},
     "output_type": "display_data"
    }
   ],
   "source": [
    "#plot\n",
    "plt.scatter(X,y,color='g')\n",
    "plt.xlabel('X dataset')\n",
    "plt.ylabel('y dataset')"
   ]
  },
  {
   "cell_type": "markdown",
   "id": "bf95dfbb-8c6b-4db9-b351-3298c4c602b5",
   "metadata": {},
   "source": [
    "train test split\n"
   ]
  },
  {
   "cell_type": "code",
   "execution_count": 21,
   "id": "d1d75d96-bec7-49d8-a71a-15815a03a377",
   "metadata": {},
   "outputs": [],
   "source": [
    "from sklearn.model_selection import train_test_split"
   ]
  },
  {
   "cell_type": "code",
   "execution_count": 23,
   "id": "cfb95525-051d-4132-b666-5d3317009285",
   "metadata": {},
   "outputs": [],
   "source": [
    "X_train,X_test,y_train,y_test = train_test_split(X,y, test_size = 0.2,random_state= 42)"
   ]
  },
  {
   "cell_type": "markdown",
   "id": "bdcbd7ec-b2b7-4d0d-8c31-3ba686437dc8",
   "metadata": {},
   "source": [
    "### Let's implement a simple linear regression "
   ]
  },
  {
   "cell_type": "code",
   "execution_count": 28,
   "id": "a4de8cb9-bd48-4110-ae5c-de50b7e567c8",
   "metadata": {},
   "outputs": [],
   "source": [
    "from sklearn.linear_model import LinearRegression\n",
    "\n",
    "regression_1 = LinearRegression()"
   ]
  },
  {
   "cell_type": "code",
   "execution_count": 42,
   "id": "921f5342-54c2-4193-a48b-c6f7c91d9738",
   "metadata": {},
   "outputs": [
    {
     "data": {
      "text/html": [
       "<style>#sk-container-id-2 {color: black;background-color: white;}#sk-container-id-2 pre{padding: 0;}#sk-container-id-2 div.sk-toggleable {background-color: white;}#sk-container-id-2 label.sk-toggleable__label {cursor: pointer;display: block;width: 100%;margin-bottom: 0;padding: 0.3em;box-sizing: border-box;text-align: center;}#sk-container-id-2 label.sk-toggleable__label-arrow:before {content: \"▸\";float: left;margin-right: 0.25em;color: #696969;}#sk-container-id-2 label.sk-toggleable__label-arrow:hover:before {color: black;}#sk-container-id-2 div.sk-estimator:hover label.sk-toggleable__label-arrow:before {color: black;}#sk-container-id-2 div.sk-toggleable__content {max-height: 0;max-width: 0;overflow: hidden;text-align: left;background-color: #f0f8ff;}#sk-container-id-2 div.sk-toggleable__content pre {margin: 0.2em;color: black;border-radius: 0.25em;background-color: #f0f8ff;}#sk-container-id-2 input.sk-toggleable__control:checked~div.sk-toggleable__content {max-height: 200px;max-width: 100%;overflow: auto;}#sk-container-id-2 input.sk-toggleable__control:checked~label.sk-toggleable__label-arrow:before {content: \"▾\";}#sk-container-id-2 div.sk-estimator input.sk-toggleable__control:checked~label.sk-toggleable__label {background-color: #d4ebff;}#sk-container-id-2 div.sk-label input.sk-toggleable__control:checked~label.sk-toggleable__label {background-color: #d4ebff;}#sk-container-id-2 input.sk-hidden--visually {border: 0;clip: rect(1px 1px 1px 1px);clip: rect(1px, 1px, 1px, 1px);height: 1px;margin: -1px;overflow: hidden;padding: 0;position: absolute;width: 1px;}#sk-container-id-2 div.sk-estimator {font-family: monospace;background-color: #f0f8ff;border: 1px dotted black;border-radius: 0.25em;box-sizing: border-box;margin-bottom: 0.5em;}#sk-container-id-2 div.sk-estimator:hover {background-color: #d4ebff;}#sk-container-id-2 div.sk-parallel-item::after {content: \"\";width: 100%;border-bottom: 1px solid gray;flex-grow: 1;}#sk-container-id-2 div.sk-label:hover label.sk-toggleable__label {background-color: #d4ebff;}#sk-container-id-2 div.sk-serial::before {content: \"\";position: absolute;border-left: 1px solid gray;box-sizing: border-box;top: 0;bottom: 0;left: 50%;z-index: 0;}#sk-container-id-2 div.sk-serial {display: flex;flex-direction: column;align-items: center;background-color: white;padding-right: 0.2em;padding-left: 0.2em;position: relative;}#sk-container-id-2 div.sk-item {position: relative;z-index: 1;}#sk-container-id-2 div.sk-parallel {display: flex;align-items: stretch;justify-content: center;background-color: white;position: relative;}#sk-container-id-2 div.sk-item::before, #sk-container-id-2 div.sk-parallel-item::before {content: \"\";position: absolute;border-left: 1px solid gray;box-sizing: border-box;top: 0;bottom: 0;left: 50%;z-index: -1;}#sk-container-id-2 div.sk-parallel-item {display: flex;flex-direction: column;z-index: 1;position: relative;background-color: white;}#sk-container-id-2 div.sk-parallel-item:first-child::after {align-self: flex-end;width: 50%;}#sk-container-id-2 div.sk-parallel-item:last-child::after {align-self: flex-start;width: 50%;}#sk-container-id-2 div.sk-parallel-item:only-child::after {width: 0;}#sk-container-id-2 div.sk-dashed-wrapped {border: 1px dashed gray;margin: 0 0.4em 0.5em 0.4em;box-sizing: border-box;padding-bottom: 0.4em;background-color: white;}#sk-container-id-2 div.sk-label label {font-family: monospace;font-weight: bold;display: inline-block;line-height: 1.2em;}#sk-container-id-2 div.sk-label-container {text-align: center;}#sk-container-id-2 div.sk-container {/* jupyter's `normalize.less` sets `[hidden] { display: none; }` but bootstrap.min.css set `[hidden] { display: none !important; }` so we also need the `!important` here to be able to override the default hidden behavior on the sphinx rendered scikit-learn.org. See: https://github.com/scikit-learn/scikit-learn/issues/21755 */display: inline-block !important;position: relative;}#sk-container-id-2 div.sk-text-repr-fallback {display: none;}</style><div id=\"sk-container-id-2\" class=\"sk-top-container\"><div class=\"sk-text-repr-fallback\"><pre>LinearRegression()</pre><b>In a Jupyter environment, please rerun this cell to show the HTML representation or trust the notebook. <br />On GitHub, the HTML representation is unable to render, please try loading this page with nbviewer.org.</b></div><div class=\"sk-container\" hidden><div class=\"sk-item\"><div class=\"sk-estimator sk-toggleable\"><input class=\"sk-toggleable__control sk-hidden--visually\" id=\"sk-estimator-id-2\" type=\"checkbox\" checked><label for=\"sk-estimator-id-2\" class=\"sk-toggleable__label sk-toggleable__label-arrow\">LinearRegression</label><div class=\"sk-toggleable__content\"><pre>LinearRegression()</pre></div></div></div></div></div>"
      ],
      "text/plain": [
       "LinearRegression()"
      ]
     },
     "execution_count": 42,
     "metadata": {},
     "output_type": "execute_result"
    }
   ],
   "source": [
    "regression_1.fit(X_train,y_train)"
   ]
  },
  {
   "cell_type": "code",
   "execution_count": 44,
   "id": "ee40df1a-8879-477f-881e-4c32ce23e342",
   "metadata": {},
   "outputs": [],
   "source": [
    "from sklearn.metrics import r2_score"
   ]
  },
  {
   "cell_type": "code",
   "execution_count": 50,
   "id": "5aba8bb6-ee1a-4652-8c3a-51ee30fd1b56",
   "metadata": {},
   "outputs": [
    {
     "name": "stdout",
     "output_type": "stream",
     "text": [
      "0.7625913382944413\n"
     ]
    }
   ],
   "source": [
    "score = r2_score(y_test, regression_1.predict(X_test))\n",
    "print(score)"
   ]
  },
  {
   "cell_type": "markdown",
   "id": "cf289e01-65b4-4268-bc92-c1cd90ad01c9",
   "metadata": {},
   "source": [
    "Let's visualise the model"
   ]
  },
  {
   "cell_type": "code",
   "execution_count": 61,
   "id": "0a703cb4-4675-4105-8d05-8676fdc87693",
   "metadata": {},
   "outputs": [
    {
     "data": {
      "text/plain": [
       "<matplotlib.collections.PathCollection at 0x15b09e210>"
      ]
     },
     "execution_count": 61,
     "metadata": {},
     "output_type": "execute_result"
    },
    {
     "data": {
      "image/png": "[encoded data removed]",
      "text/plain": [
       "<Figure size 640x480 with 1 Axes>"
      ]
     },
     "metadata": {},
     "output_type": "display_data"
    }
   ],
   "source": [
    "plt.plot(X_train,regression_1.predict(X_train),color= 'r')\n",
    "plt.scatter(X_train,y_train)"
   ]
  },
  {
   "cell_type": "markdown",
   "id": "4ec2cee9-6b9d-4842-99a3-a2dfba3f5e87",
   "metadata": {},
   "source": [
    "## Let's apply polynomial regression"
   ]
  },
  {
   "cell_type": "code",
   "execution_count": 64,
   "id": "9664098a-0f8a-41aa-b594-5c115473c753",
   "metadata": {},
   "outputs": [],
   "source": [
    "from sklearn.preprocessing import PolynomialFeatures"
   ]
  },
  {
   "cell_type": "code",
   "execution_count": 78,
   "id": "d8d3d85d-a509-41f3-8cd9-97029529c2ad",
   "metadata": {},
   "outputs": [],
   "source": [
    "poly = PolynomialFeatures(degree=2,include_bias=True)\n",
    "X_train_poly= poly.fit_transform(X_train)\n",
    "X_test_poly = poly.transform(X_test)\n"
   ]
  },
  {
   "cell_type": "code",
   "execution_count": 80,
   "id": "acd16158-c11c-47b4-938e-3c5151cf7fa8",
   "metadata": {},
   "outputs": [
    {
     "data": {
      "text/plain": [
       "array([[ 1.00000000e+00,  8.05542147e-01,  6.48898151e-01],\n",
       "       [ 1.00000000e+00, -2.47551191e+00,  6.12815920e+00],\n",
       "       [ 1.00000000e+00, -6.98938312e-01,  4.88514764e-01],\n",
       "       [ 1.00000000e+00, -2.63359580e+00,  6.93582686e+00],\n",
       "       [ 1.00000000e+00,  1.99226192e+00,  3.96910755e+00],\n",
       "       [ 1.00000000e+00, -2.64334743e+00,  6.98728563e+00],\n",
       "       [ 1.00000000e+00,  2.43279111e+00,  5.91847261e+00],\n",
       "       [ 1.00000000e+00, -2.37600730e+00,  5.64541069e+00],\n",
       "       [ 1.00000000e+00, -2.42224925e+00,  5.86729145e+00],\n",
       "       [ 1.00000000e+00, -1.11788952e-01,  1.24967698e-02],\n",
       "       [ 1.00000000e+00,  8.29997406e-01,  6.88895694e-01],\n",
       "       [ 1.00000000e+00,  2.51445990e+00,  6.32250860e+00],\n",
       "       [ 1.00000000e+00,  2.46931371e+00,  6.09751021e+00],\n",
       "       [ 1.00000000e+00, -2.03749043e+00,  4.15136725e+00],\n",
       "       [ 1.00000000e+00,  1.61191394e+00,  2.59826654e+00],\n",
       "       [ 1.00000000e+00, -1.89301497e+00,  3.58350569e+00],\n",
       "       [ 1.00000000e+00, -6.58103507e-01,  4.33100226e-01],\n",
       "       [ 1.00000000e+00, -2.83357971e+00,  8.02917399e+00],\n",
       "       [ 1.00000000e+00,  4.70258778e-01,  2.21143318e-01],\n",
       "       [ 1.00000000e+00, -2.15482584e+00,  4.64327441e+00],\n",
       "       [ 1.00000000e+00, -2.91211010e+00,  8.48038524e+00],\n",
       "       [ 1.00000000e+00, -1.45900060e-01,  2.12868275e-02],\n",
       "       [ 1.00000000e+00,  6.41643901e-01,  4.11706896e-01],\n",
       "       [ 1.00000000e+00,  1.43252941e-01,  2.05214050e-02],\n",
       "       [ 1.00000000e+00, -2.01201533e+00,  4.04820570e+00],\n",
       "       [ 1.00000000e+00,  2.99926047e+00,  8.99556334e+00],\n",
       "       [ 1.00000000e+00,  9.50786788e-01,  9.03995517e-01],\n",
       "       [ 1.00000000e+00,  3.59017520e-01,  1.28893579e-01],\n",
       "       [ 1.00000000e+00, -4.94334610e-01,  2.44366707e-01],\n",
       "       [ 1.00000000e+00, -2.21105599e-01,  4.88876859e-02],\n",
       "       [ 1.00000000e+00, -5.07964902e-01,  2.58028342e-01],\n",
       "       [ 1.00000000e+00, -5.71691422e-01,  3.26831082e-01],\n",
       "       [ 1.00000000e+00,  1.95881300e+00,  3.83694836e+00],\n",
       "       [ 1.00000000e+00, -2.17623482e-01,  4.73599799e-02],\n",
       "       [ 1.00000000e+00, -1.12797594e-02,  1.27232973e-04],\n",
       "       [ 1.00000000e+00,  1.62742533e+00,  2.64851320e+00],\n",
       "       [ 1.00000000e+00, -2.26749758e+00,  5.14154526e+00],\n",
       "       [ 1.00000000e+00,  2.69892408e+00,  7.28419117e+00],\n",
       "       [ 1.00000000e+00,  1.87133957e-01,  3.50191180e-02],\n",
       "       [ 1.00000000e+00, -1.78609054e+00,  3.19011943e+00],\n",
       "       [ 1.00000000e+00,  2.29870936e+00,  5.28406473e+00],\n",
       "       [ 1.00000000e+00,  2.24061574e+00,  5.02035888e+00],\n",
       "       [ 1.00000000e+00,  3.42215246e-01,  1.17111274e-01],\n",
       "       [ 1.00000000e+00,  1.12475537e+00,  1.26507465e+00],\n",
       "       [ 1.00000000e+00,  1.86047346e+00,  3.46136148e+00],\n",
       "       [ 1.00000000e+00, -1.75461039e+00,  3.07865762e+00],\n",
       "       [ 1.00000000e+00, -1.16831077e+00,  1.36495005e+00],\n",
       "       [ 1.00000000e+00,  2.35408319e-01,  5.54170766e-02],\n",
       "       [ 1.00000000e+00,  1.91005163e+00,  3.64829723e+00],\n",
       "       [ 1.00000000e+00, -9.30118041e-02,  8.65119571e-03],\n",
       "       [ 1.00000000e+00, -1.48075950e+00,  2.19264870e+00],\n",
       "       [ 1.00000000e+00,  1.46363594e+00,  2.14223016e+00],\n",
       "       [ 1.00000000e+00,  2.75697947e+00,  7.60093583e+00],\n",
       "       [ 1.00000000e+00,  1.93357447e+00,  3.73871025e+00],\n",
       "       [ 1.00000000e+00, -1.98380593e+00,  3.93548596e+00],\n",
       "       [ 1.00000000e+00,  1.61759541e+00,  2.61661490e+00],\n",
       "       [ 1.00000000e+00, -6.24710189e-01,  3.90262821e-01],\n",
       "       [ 1.00000000e+00,  2.79791779e+00,  7.82834396e+00],\n",
       "       [ 1.00000000e+00,  7.70096805e-01,  5.93049088e-01],\n",
       "       [ 1.00000000e+00, -1.29576237e+00,  1.67900012e+00],\n",
       "       [ 1.00000000e+00, -3.28679487e-01,  1.08030205e-01],\n",
       "       [ 1.00000000e+00, -1.65464719e+00,  2.73785731e+00],\n",
       "       [ 1.00000000e+00, -1.73887461e+00,  3.02368492e+00],\n",
       "       [ 1.00000000e+00,  2.48217329e+00,  6.16118425e+00],\n",
       "       [ 1.00000000e+00, -1.37004319e+00,  1.87701834e+00],\n",
       "       [ 1.00000000e+00,  1.98130735e+00,  3.92557882e+00],\n",
       "       [ 1.00000000e+00,  2.95558855e+00,  8.73550368e+00],\n",
       "       [ 1.00000000e+00, -1.33684615e+00,  1.78715762e+00],\n",
       "       [ 1.00000000e+00, -9.56844698e-01,  9.15551775e-01],\n",
       "       [ 1.00000000e+00,  6.94883332e-01,  4.82862845e-01],\n",
       "       [ 1.00000000e+00, -8.26639316e-01,  6.83332558e-01],\n",
       "       [ 1.00000000e+00, -1.73128423e+00,  2.99734507e+00],\n",
       "       [ 1.00000000e+00, -1.08258837e+00,  1.17199757e+00],\n",
       "       [ 1.00000000e+00,  2.30633843e-01,  5.31919698e-02],\n",
       "       [ 1.00000000e+00, -2.05447708e+00,  4.22087607e+00],\n",
       "       [ 1.00000000e+00,  2.94461035e+00,  8.67073013e+00],\n",
       "       [ 1.00000000e+00, -1.45654599e+00,  2.12152623e+00],\n",
       "       [ 1.00000000e+00,  1.07193439e+00,  1.14904333e+00],\n",
       "       [ 1.00000000e+00,  1.04124138e+00,  1.08418360e+00],\n",
       "       [ 1.00000000e+00,  2.67477290e+00,  7.15441007e+00]])"
      ]
     },
     "execution_count": 80,
     "metadata": {},
     "output_type": "execute_result"
    }
   ],
   "source": [
    "X_train_poly"
   ]
  },
  {
   "cell_type": "code",
   "execution_count": 82,
   "id": "098b3227-6142-49ab-b294-065572e6ce35",
   "metadata": {},
   "outputs": [
    {
     "data": {
      "text/plain": [
       "array([[ 1.        , -2.26318181,  5.12199189],\n",
       "       [ 1.        , -0.26179417,  0.06853619],\n",
       "       [ 1.        ,  0.40475626,  0.16382763],\n",
       "       [ 1.        ,  2.2738679 ,  5.17047521],\n",
       "       [ 1.        ,  2.57041427,  6.60702952],\n",
       "       [ 1.        , -2.73297337,  7.46914346],\n",
       "       [ 1.        ,  1.24770141,  1.55675881],\n",
       "       [ 1.        , -0.70078602,  0.49110105],\n",
       "       [ 1.        , -1.22940187,  1.51142895],\n",
       "       [ 1.        , -0.37769346,  0.14265235],\n",
       "       [ 1.        ,  2.38937044,  5.7090911 ],\n",
       "       [ 1.        ,  2.4001628 ,  5.76078148],\n",
       "       [ 1.        ,  0.16500117,  0.02722539],\n",
       "       [ 1.        ,  0.17186428,  0.02953733],\n",
       "       [ 1.        , -2.23850661,  5.01091183],\n",
       "       [ 1.        ,  0.6107336 ,  0.37299553],\n",
       "       [ 1.        , -2.77671712,  7.71015799],\n",
       "       [ 1.        , -1.36720506,  1.86924969],\n",
       "       [ 1.        , -2.08385028,  4.34243198],\n",
       "       [ 1.        ,  1.26041971,  1.58865784]])"
      ]
     },
     "execution_count": 82,
     "metadata": {},
     "output_type": "execute_result"
    }
   ],
   "source": [
    "X_test_poly"
   ]
  },
  {
   "cell_type": "code",
   "execution_count": 104,
   "id": "59c1aff2-ef1f-4c8d-aa86-0067cd2e9658",
   "metadata": {},
   "outputs": [],
   "source": [
    "from sklearn.metrics import r2_score\n",
    "from sklearn.linear_model import LinearRegression\n",
    "regression = LinearRegression()\n"
   ]
  },
  {
   "cell_type": "code",
   "execution_count": 106,
   "id": "0f60f996-5955-4a8a-9237-2fb08a1a326e",
   "metadata": {},
   "outputs": [
    {
     "data": {
      "text/html": [
       "<style>#sk-container-id-3 {color: black;background-color: white;}#sk-container-id-3 pre{padding: 0;}#sk-container-id-3 div.sk-toggleable {background-color: white;}#sk-container-id-3 label.sk-toggleable__label {cursor: pointer;display: block;width: 100%;margin-bottom: 0;padding: 0.3em;box-sizing: border-box;text-align: center;}#sk-container-id-3 label.sk-toggleable__label-arrow:before {content: \"▸\";float: left;margin-right: 0.25em;color: #696969;}#sk-container-id-3 label.sk-toggleable__label-arrow:hover:before {color: black;}#sk-container-id-3 div.sk-estimator:hover label.sk-toggleable__label-arrow:before {color: black;}#sk-container-id-3 div.sk-toggleable__content {max-height: 0;max-width: 0;overflow: hidden;text-align: left;background-color: #f0f8ff;}#sk-container-id-3 div.sk-toggleable__content pre {margin: 0.2em;color: black;border-radius: 0.25em;background-color: #f0f8ff;}#sk-container-id-3 input.sk-toggleable__control:checked~div.sk-toggleable__content {max-height: 200px;max-width: 100%;overflow: auto;}#sk-container-id-3 input.sk-toggleable__control:checked~label.sk-toggleable__label-arrow:before {content: \"▾\";}#sk-container-id-3 div.sk-estimator input.sk-toggleable__control:checked~label.sk-toggleable__label {background-color: #d4ebff;}#sk-container-id-3 div.sk-label input.sk-toggleable__control:checked~label.sk-toggleable__label {background-color: #d4ebff;}#sk-container-id-3 input.sk-hidden--visually {border: 0;clip: rect(1px 1px 1px 1px);clip: rect(1px, 1px, 1px, 1px);height: 1px;margin: -1px;overflow: hidden;padding: 0;position: absolute;width: 1px;}#sk-container-id-3 div.sk-estimator {font-family: monospace;background-color: #f0f8ff;border: 1px dotted black;border-radius: 0.25em;box-sizing: border-box;margin-bottom: 0.5em;}#sk-container-id-3 div.sk-estimator:hover {background-color: #d4ebff;}#sk-container-id-3 div.sk-parallel-item::after {content: \"\";width: 100%;border-bottom: 1px solid gray;flex-grow: 1;}#sk-container-id-3 div.sk-label:hover label.sk-toggleable__label {background-color: #d4ebff;}#sk-container-id-3 div.sk-serial::before {content: \"\";position: absolute;border-left: 1px solid gray;box-sizing: border-box;top: 0;bottom: 0;left: 50%;z-index: 0;}#sk-container-id-3 div.sk-serial {display: flex;flex-direction: column;align-items: center;background-color: white;padding-right: 0.2em;padding-left: 0.2em;position: relative;}#sk-container-id-3 div.sk-item {position: relative;z-index: 1;}#sk-container-id-3 div.sk-parallel {display: flex;align-items: stretch;justify-content: center;background-color: white;position: relative;}#sk-container-id-3 div.sk-item::before, #sk-container-id-3 div.sk-parallel-item::before {content: \"\";position: absolute;border-left: 1px solid gray;box-sizing: border-box;top: 0;bottom: 0;left: 50%;z-index: -1;}#sk-container-id-3 div.sk-parallel-item {display: flex;flex-direction: column;z-index: 1;position: relative;background-color: white;}#sk-container-id-3 div.sk-parallel-item:first-child::after {align-self: flex-end;width: 50%;}#sk-container-id-3 div.sk-parallel-item:last-child::after {align-self: flex-start;width: 50%;}#sk-container-id-3 div.sk-parallel-item:only-child::after {width: 0;}#sk-container-id-3 div.sk-dashed-wrapped {border: 1px dashed gray;margin: 0 0.4em 0.5em 0.4em;box-sizing: border-box;padding-bottom: 0.4em;background-color: white;}#sk-container-id-3 div.sk-label label {font-family: monospace;font-weight: bold;display: inline-block;line-height: 1.2em;}#sk-container-id-3 div.sk-label-container {text-align: center;}#sk-container-id-3 div.sk-container {/* jupyter's `normalize.less` sets `[hidden] { display: none; }` but bootstrap.min.css set `[hidden] { display: none !important; }` so we also need the `!important` here to be able to override the default hidden behavior on the sphinx rendered scikit-learn.org. See: https://github.com/scikit-learn/scikit-learn/issues/21755 */display: inline-block !important;position: relative;}#sk-container-id-3 div.sk-text-repr-fallback {display: none;}</style><div id=\"sk-container-id-3\" class=\"sk-top-container\"><div class=\"sk-text-repr-fallback\"><pre>LinearRegression()</pre><b>In a Jupyter environment, please rerun this cell to show the HTML representation or trust the notebook. <br />On GitHub, the HTML representation is unable to render, please try loading this page with nbviewer.org.</b></div><div class=\"sk-container\" hidden><div class=\"sk-item\"><div class=\"sk-estimator sk-toggleable\"><input class=\"sk-toggleable__control sk-hidden--visually\" id=\"sk-estimator-id-3\" type=\"checkbox\" checked><label for=\"sk-estimator-id-3\" class=\"sk-toggleable__label sk-toggleable__label-arrow\">LinearRegression</label><div class=\"sk-toggleable__content\"><pre>LinearRegression()</pre></div></div></div></div></div>"
      ],
      "text/plain": [
       "LinearRegression()"
      ]
     },
     "execution_count": 106,
     "metadata": {},
     "output_type": "execute_result"
    }
   ],
   "source": [
    "regression.fit(X_train_poly,y_train)"
   ]
  },
  {
   "cell_type": "code",
   "execution_count": 110,
   "id": "cab1ba96-8442-463f-9fba-c79d2bc7fe8e",
   "metadata": {},
   "outputs": [
    {
     "name": "stdout",
     "output_type": "stream",
     "text": [
      "0.9151864534348625\n"
     ]
    }
   ],
   "source": [
    "regression.fit=(X_train_poly,y_train)\n",
    "y_pred = regression.predict(X_test_poly)\n",
    "score = r2_score(y_test, y_pred)\n",
    "print(score)"
   ]
  },
  {
   "cell_type": "code",
   "execution_count": 112,
   "id": "ca7365ae-eaeb-4276-8df3-61ce22d97e15",
   "metadata": {},
   "outputs": [
    {
     "name": "stdout",
     "output_type": "stream",
     "text": [
      "[[0.         1.46036225 0.49288086]]\n"
     ]
    }
   ],
   "source": [
    "print(regression.coef_)"
   ]
  },
  {
   "cell_type": "code",
   "execution_count": 114,
   "id": "8a763334-3586-4016-a374-858178d74146",
   "metadata": {},
   "outputs": [
    {
     "name": "stdout",
     "output_type": "stream",
     "text": [
      "[1.96511624]\n"
     ]
    }
   ],
   "source": [
    "print(regression.intercept_)"
   ]
  },
  {
   "cell_type": "code",
   "execution_count": 124,
   "id": "0f8be859-bc3c-4c35-831e-6997b4fbe466",
   "metadata": {},
   "outputs": [
    {
     "data": {
      "text/plain": [
       "<matplotlib.collections.PathCollection at 0x143c4f990>"
      ]
     },
     "execution_count": 124,
     "metadata": {},
     "output_type": "execute_result"
    },
    {
     "data": {
      "image/png": "[encoded data removed]",
      "text/plain": [
       "<Figure size 640x480 with 1 Axes>"
      ]
     },
     "metadata": {},
     "output_type": "display_data"
    }
   ],
   "source": [
    "plt.scatter(X_train,regression.predict(X_train_poly))"
   ]
  },
  {
   "cell_type": "code",
   "execution_count": null,
   "id": "0f50d5d3-5242-4009-8002-5dfddcc3e4a2",
   "metadata": {},
   "outputs": [],
   "source": []
  }
 ],
 "metadata": {
  "kernelspec": {
   "display_name": "Python 3 (ipykernel)",
   "language": "python",
   "name": "python3"
  },
  "language_info": {
   "codemirror_mode": {
    "name": "ipython",
    "version": 3
   },
   "file_extension": ".py",
   "mimetype": "text/x-python",
   "name": "python",
   "nbconvert_exporter": "python",
   "pygments_lexer": "ipython3",
   "version": "3.11.7"
  }
 },
 "nbformat": 4,
 "nbformat_minor": 5
}
